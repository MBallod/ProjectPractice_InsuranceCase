{
  "cells": [
    {
      "cell_type": "markdown",
      "metadata": {
        "id": "bbWbjn44TntA"
      },
      "source": [
        "# 1. Загрузка данных"
      ]
    },
    {
      "cell_type": "code",
      "execution_count": 1,
      "metadata": {},
      "outputs": [],
      "source": [
        "#!pip install kaggle"
      ]
    },
    {
      "cell_type": "code",
      "execution_count": 2,
      "metadata": {
        "_cell_guid": "b1076dfc-b9ad-4769-8c92-a6c4dae69d19",
        "_uuid": "8f2839f25d086af736a60e9eeb907d3b93b6e0e5",
        "execution": {
          "iopub.execute_input": "2024-07-17T14:56:05.707734Z",
          "iopub.status.busy": "2024-07-17T14:56:05.707267Z",
          "iopub.status.idle": "2024-07-17T14:56:07.413227Z",
          "shell.execute_reply": "2024-07-17T14:56:07.411862Z",
          "shell.execute_reply.started": "2024-07-17T14:56:05.707699Z"
        },
        "id": "LO4L4_WDTntB",
        "trusted": true
      },
      "outputs": [],
      "source": [
        "import pandas as pd\n",
        "import numpy as np\n",
        "import matplotlib.pyplot as plt\n",
        "from sklearn.preprocessing import LabelEncoder, MinMaxScaler, PolynomialFeatures\n",
        "from sklearn.feature_selection import SelectKBest, f_classif\n",
        "from sklearn.linear_model import LogisticRegression\n",
        "from sklearn.model_selection import train_test_split\n",
        "from sklearn.metrics import (f1_score, roc_auc_score, \n",
        "                            average_precision_score, \n",
        "                            balanced_accuracy_score,\n",
        "                            confusion_matrix)\n",
        "from sklearn.utils.class_weight import compute_class_weight\n",
        "\n",
        "from kaggle.api.kaggle_api_extended import KaggleApi\n"
      ]
    },
    {
      "cell_type": "code",
      "execution_count": 3,
      "metadata": {},
      "outputs": [
        {
          "name": "stdout",
          "output_type": "stream",
          "text": [
            "playground-series-s4e7.zip: Skipping, found more recently modified local copy (use --force to force download)\n"
          ]
        }
      ],
      "source": [
        "# Инициализация API\n",
        "api = KaggleApi()\n",
        "api.authenticate()  # Проверяет ~/.kaggle/kaggle.json\n",
        "\n",
        "# Скачивание данных соревнования\n",
        "api.competition_download_files(\n",
        "    \"playground-series-s4e7\",  # Название соревнования\n",
        "    path=\"./data\",             # Папка для сохранения\n",
        "    quiet=False               # Показывать прогресс\n",
        ")\n",
        "\n",
        "# Распаковка архива (если нужно)\n",
        "import zipfile\n",
        "with zipfile.ZipFile(\"./data/playground-series-s4e7.zip\", 'r') as zip_ref:\n",
        "    zip_ref.extractall(\"./data\")"
      ]
    },
    {
      "cell_type": "code",
      "execution_count": 4,
      "metadata": {
        "execution": {
          "iopub.execute_input": "2024-07-17T14:56:07.824853Z",
          "iopub.status.busy": "2024-07-17T14:56:07.824209Z",
          "iopub.status.idle": "2024-07-17T14:56:49.231965Z",
          "shell.execute_reply": "2024-07-17T14:56:49.23059Z",
          "shell.execute_reply.started": "2024-07-17T14:56:07.824816Z"
        },
        "id": "kD5ZDf8NTntC",
        "trusted": true
      },
      "outputs": [],
      "source": [
        "df_train = pd.read_csv('./data/train.csv')\n",
        "df_test = pd.read_csv('./data/test.csv')"
      ]
    },
    {
      "cell_type": "code",
      "execution_count": 5,
      "metadata": {
        "execution": {
          "iopub.execute_input": "2024-07-17T14:56:49.235798Z",
          "iopub.status.busy": "2024-07-17T14:56:49.234394Z",
          "iopub.status.idle": "2024-07-17T14:56:49.269962Z",
          "shell.execute_reply": "2024-07-17T14:56:49.268451Z",
          "shell.execute_reply.started": "2024-07-17T14:56:49.235754Z"
        },
        "id": "kWYhLLhkTntD",
        "trusted": true
      },
      "outputs": [
        {
          "data": {
            "text/html": [
              "<div>\n",
              "<style scoped>\n",
              "    .dataframe tbody tr th:only-of-type {\n",
              "        vertical-align: middle;\n",
              "    }\n",
              "\n",
              "    .dataframe tbody tr th {\n",
              "        vertical-align: top;\n",
              "    }\n",
              "\n",
              "    .dataframe thead th {\n",
              "        text-align: right;\n",
              "    }\n",
              "</style>\n",
              "<table border=\"1\" class=\"dataframe\">\n",
              "  <thead>\n",
              "    <tr style=\"text-align: right;\">\n",
              "      <th></th>\n",
              "      <th>id</th>\n",
              "      <th>Gender</th>\n",
              "      <th>Age</th>\n",
              "      <th>Driving_License</th>\n",
              "      <th>Region_Code</th>\n",
              "      <th>Previously_Insured</th>\n",
              "      <th>Vehicle_Age</th>\n",
              "      <th>Vehicle_Damage</th>\n",
              "      <th>Annual_Premium</th>\n",
              "      <th>Policy_Sales_Channel</th>\n",
              "      <th>Vintage</th>\n",
              "      <th>Response</th>\n",
              "    </tr>\n",
              "  </thead>\n",
              "  <tbody>\n",
              "    <tr>\n",
              "      <th>0</th>\n",
              "      <td>0</td>\n",
              "      <td>Male</td>\n",
              "      <td>21</td>\n",
              "      <td>1</td>\n",
              "      <td>35.0</td>\n",
              "      <td>0</td>\n",
              "      <td>1-2 Year</td>\n",
              "      <td>Yes</td>\n",
              "      <td>65101.0</td>\n",
              "      <td>124.0</td>\n",
              "      <td>187</td>\n",
              "      <td>0</td>\n",
              "    </tr>\n",
              "    <tr>\n",
              "      <th>1</th>\n",
              "      <td>1</td>\n",
              "      <td>Male</td>\n",
              "      <td>43</td>\n",
              "      <td>1</td>\n",
              "      <td>28.0</td>\n",
              "      <td>0</td>\n",
              "      <td>&gt; 2 Years</td>\n",
              "      <td>Yes</td>\n",
              "      <td>58911.0</td>\n",
              "      <td>26.0</td>\n",
              "      <td>288</td>\n",
              "      <td>1</td>\n",
              "    </tr>\n",
              "    <tr>\n",
              "      <th>2</th>\n",
              "      <td>2</td>\n",
              "      <td>Female</td>\n",
              "      <td>25</td>\n",
              "      <td>1</td>\n",
              "      <td>14.0</td>\n",
              "      <td>1</td>\n",
              "      <td>&lt; 1 Year</td>\n",
              "      <td>No</td>\n",
              "      <td>38043.0</td>\n",
              "      <td>152.0</td>\n",
              "      <td>254</td>\n",
              "      <td>0</td>\n",
              "    </tr>\n",
              "    <tr>\n",
              "      <th>3</th>\n",
              "      <td>3</td>\n",
              "      <td>Female</td>\n",
              "      <td>35</td>\n",
              "      <td>1</td>\n",
              "      <td>1.0</td>\n",
              "      <td>0</td>\n",
              "      <td>1-2 Year</td>\n",
              "      <td>Yes</td>\n",
              "      <td>2630.0</td>\n",
              "      <td>156.0</td>\n",
              "      <td>76</td>\n",
              "      <td>0</td>\n",
              "    </tr>\n",
              "    <tr>\n",
              "      <th>4</th>\n",
              "      <td>4</td>\n",
              "      <td>Female</td>\n",
              "      <td>36</td>\n",
              "      <td>1</td>\n",
              "      <td>15.0</td>\n",
              "      <td>1</td>\n",
              "      <td>1-2 Year</td>\n",
              "      <td>No</td>\n",
              "      <td>31951.0</td>\n",
              "      <td>152.0</td>\n",
              "      <td>294</td>\n",
              "      <td>0</td>\n",
              "    </tr>\n",
              "  </tbody>\n",
              "</table>\n",
              "</div>"
            ],
            "text/plain": [
              "   id  Gender  Age  Driving_License  Region_Code  Previously_Insured  \\\n",
              "0   0    Male   21                1         35.0                   0   \n",
              "1   1    Male   43                1         28.0                   0   \n",
              "2   2  Female   25                1         14.0                   1   \n",
              "3   3  Female   35                1          1.0                   0   \n",
              "4   4  Female   36                1         15.0                   1   \n",
              "\n",
              "  Vehicle_Age Vehicle_Damage  Annual_Premium  Policy_Sales_Channel  Vintage  \\\n",
              "0    1-2 Year            Yes         65101.0                 124.0      187   \n",
              "1   > 2 Years            Yes         58911.0                  26.0      288   \n",
              "2    < 1 Year             No         38043.0                 152.0      254   \n",
              "3    1-2 Year            Yes          2630.0                 156.0       76   \n",
              "4    1-2 Year             No         31951.0                 152.0      294   \n",
              "\n",
              "   Response  \n",
              "0         0  \n",
              "1         1  \n",
              "2         0  \n",
              "3         0  \n",
              "4         0  "
            ]
          },
          "execution_count": 5,
          "metadata": {},
          "output_type": "execute_result"
        }
      ],
      "source": [
        "df_train.head()"
      ]
    },
    {
      "cell_type": "code",
      "execution_count": 6,
      "metadata": {},
      "outputs": [
        {
          "data": {
            "text/html": [
              "<div>\n",
              "<style scoped>\n",
              "    .dataframe tbody tr th:only-of-type {\n",
              "        vertical-align: middle;\n",
              "    }\n",
              "\n",
              "    .dataframe tbody tr th {\n",
              "        vertical-align: top;\n",
              "    }\n",
              "\n",
              "    .dataframe thead th {\n",
              "        text-align: right;\n",
              "    }\n",
              "</style>\n",
              "<table border=\"1\" class=\"dataframe\">\n",
              "  <thead>\n",
              "    <tr style=\"text-align: right;\">\n",
              "      <th></th>\n",
              "      <th>id</th>\n",
              "      <th>Gender</th>\n",
              "      <th>Age</th>\n",
              "      <th>Driving_License</th>\n",
              "      <th>Region_Code</th>\n",
              "      <th>Previously_Insured</th>\n",
              "      <th>Vehicle_Age</th>\n",
              "      <th>Vehicle_Damage</th>\n",
              "      <th>Annual_Premium</th>\n",
              "      <th>Policy_Sales_Channel</th>\n",
              "      <th>Vintage</th>\n",
              "    </tr>\n",
              "  </thead>\n",
              "  <tbody>\n",
              "    <tr>\n",
              "      <th>0</th>\n",
              "      <td>11504798</td>\n",
              "      <td>Female</td>\n",
              "      <td>20</td>\n",
              "      <td>1</td>\n",
              "      <td>47.0</td>\n",
              "      <td>0</td>\n",
              "      <td>&lt; 1 Year</td>\n",
              "      <td>No</td>\n",
              "      <td>2630.0</td>\n",
              "      <td>160.0</td>\n",
              "      <td>228</td>\n",
              "    </tr>\n",
              "    <tr>\n",
              "      <th>1</th>\n",
              "      <td>11504799</td>\n",
              "      <td>Male</td>\n",
              "      <td>47</td>\n",
              "      <td>1</td>\n",
              "      <td>28.0</td>\n",
              "      <td>0</td>\n",
              "      <td>1-2 Year</td>\n",
              "      <td>Yes</td>\n",
              "      <td>37483.0</td>\n",
              "      <td>124.0</td>\n",
              "      <td>123</td>\n",
              "    </tr>\n",
              "    <tr>\n",
              "      <th>2</th>\n",
              "      <td>11504800</td>\n",
              "      <td>Male</td>\n",
              "      <td>47</td>\n",
              "      <td>1</td>\n",
              "      <td>43.0</td>\n",
              "      <td>0</td>\n",
              "      <td>1-2 Year</td>\n",
              "      <td>Yes</td>\n",
              "      <td>2630.0</td>\n",
              "      <td>26.0</td>\n",
              "      <td>271</td>\n",
              "    </tr>\n",
              "    <tr>\n",
              "      <th>3</th>\n",
              "      <td>11504801</td>\n",
              "      <td>Female</td>\n",
              "      <td>22</td>\n",
              "      <td>1</td>\n",
              "      <td>47.0</td>\n",
              "      <td>1</td>\n",
              "      <td>&lt; 1 Year</td>\n",
              "      <td>No</td>\n",
              "      <td>24502.0</td>\n",
              "      <td>152.0</td>\n",
              "      <td>115</td>\n",
              "    </tr>\n",
              "    <tr>\n",
              "      <th>4</th>\n",
              "      <td>11504802</td>\n",
              "      <td>Male</td>\n",
              "      <td>51</td>\n",
              "      <td>1</td>\n",
              "      <td>19.0</td>\n",
              "      <td>0</td>\n",
              "      <td>1-2 Year</td>\n",
              "      <td>No</td>\n",
              "      <td>34115.0</td>\n",
              "      <td>124.0</td>\n",
              "      <td>148</td>\n",
              "    </tr>\n",
              "  </tbody>\n",
              "</table>\n",
              "</div>"
            ],
            "text/plain": [
              "         id  Gender  Age  Driving_License  Region_Code  Previously_Insured  \\\n",
              "0  11504798  Female   20                1         47.0                   0   \n",
              "1  11504799    Male   47                1         28.0                   0   \n",
              "2  11504800    Male   47                1         43.0                   0   \n",
              "3  11504801  Female   22                1         47.0                   1   \n",
              "4  11504802    Male   51                1         19.0                   0   \n",
              "\n",
              "  Vehicle_Age Vehicle_Damage  Annual_Premium  Policy_Sales_Channel  Vintage  \n",
              "0    < 1 Year             No          2630.0                 160.0      228  \n",
              "1    1-2 Year            Yes         37483.0                 124.0      123  \n",
              "2    1-2 Year            Yes          2630.0                  26.0      271  \n",
              "3    < 1 Year             No         24502.0                 152.0      115  \n",
              "4    1-2 Year             No         34115.0                 124.0      148  "
            ]
          },
          "execution_count": 6,
          "metadata": {},
          "output_type": "execute_result"
        }
      ],
      "source": [
        "df_test.head()"
      ]
    },
    {
      "cell_type": "markdown",
      "metadata": {},
      "source": [
        "Дальше будем работать только с датафреймом df_train, так как df_test не содержат целевую переменную и для обучения не годится"
      ]
    },
    {
      "cell_type": "code",
      "execution_count": 7,
      "metadata": {},
      "outputs": [],
      "source": [
        "df = df_train"
      ]
    },
    {
      "cell_type": "markdown",
      "metadata": {
        "id": "N4Al9YVITntD"
      },
      "source": [
        "# 2. Обработка данных"
      ]
    },
    {
      "cell_type": "markdown",
      "metadata": {
        "id": "v8VzzizxTntD"
      },
      "source": [
        "### 2.1 Анализ пропущенных значений и дупликатов"
      ]
    },
    {
      "cell_type": "code",
      "execution_count": 8,
      "metadata": {},
      "outputs": [
        {
          "name": "stdout",
          "output_type": "stream",
          "text": [
            "Empty DataFrame\n",
            "Columns: [Количество пропусков, Доля пропусков]\n",
            "Index: []\n",
            "Полных дубликатов строк: 0\n",
            "Частичных дубликатов по ID: 0\n"
          ]
        }
      ],
      "source": [
        "missing_analysis = pd.DataFrame({\n",
        "    'Количество пропусков': df.isnull().sum(),\n",
        "    'Доля пропусков': df.isnull().mean().round(4)\n",
        "})\n",
        "print(missing_analysis[missing_analysis['Количество пропусков'] > 0])\n",
        "\n",
        "print(f\"Полных дубликатов строк: {df.duplicated().sum()}\")\n",
        "print(f\"Частичных дубликатов по ID: {df['id'].duplicated().sum()}\")\n"
      ]
    },
    {
      "cell_type": "markdown",
      "metadata": {},
      "source": [
        "id в обучении не пригодится"
      ]
    },
    {
      "cell_type": "code",
      "execution_count": 9,
      "metadata": {},
      "outputs": [],
      "source": [
        "df.drop('id', axis=1, inplace=True)"
      ]
    },
    {
      "cell_type": "markdown",
      "metadata": {},
      "source": [
        "### 2.2 Сбалансированность классов"
      ]
    },
    {
      "cell_type": "markdown",
      "metadata": {},
      "source": [
        "Посмотрим на соотношение классов Response. Это поможет нам потом выбрать правильные метрики"
      ]
    },
    {
      "cell_type": "code",
      "execution_count": 10,
      "metadata": {},
      "outputs": [
        {
          "name": "stdout",
          "output_type": "stream",
          "text": [
            "Распределение классов:\n",
            "Response\n",
            "0    0.877003\n",
            "1    0.122997\n",
            "Name: proportion, dtype: float64\n",
            "\n",
            "Соотношение классов: 7.1:1\n"
          ]
        }
      ],
      "source": [
        "class_dist = df['Response'].value_counts(normalize=True)\n",
        "\n",
        "print(f\"Распределение классов:\\n{class_dist}\\n\")\n",
        "print(f\"Соотношение классов: {class_dist[0]/class_dist[1]:.1f}:1\")"
      ]
    },
    {
      "cell_type": "markdown",
      "metadata": {},
      "source": [
        "Видно, что классы несбалансированы. Поэтому нельзя использовать в качестве метрики качества accuracy, например. Также, для обучения моделей нужно компенсировать малый класс через больший вес ошибки на этапе обучение. Для этого используем compute_class_weight"
      ]
    },
    {
      "cell_type": "code",
      "execution_count": 11,
      "metadata": {},
      "outputs": [
        {
          "name": "stdout",
          "output_type": "stream",
          "text": [
            "\n",
            "Веса классов для компенсации дисбаланса: {0: 0.570123648963296, 1: 4.065131074836882}\n"
          ]
        }
      ],
      "source": [
        "# Разделение с сохранением распределения\n",
        "X = df.drop('Response', axis=1)\n",
        "y = df['Response']\n",
        "X_train, X_test, y_train, y_test = train_test_split(\n",
        "    X, y, test_size=0.3, random_state=42, stratify=y)\n",
        "\n",
        "# Вычисление весов классов\n",
        "class_weights = compute_class_weight('balanced', classes=np.unique(y_train), y=y_train)\n",
        "class_weight_dict = {0: class_weights[0], 1: class_weights[1]}\n",
        "print(f\"\\nВеса классов для компенсации дисбаланса: {class_weight_dict}\")"
      ]
    },
    {
      "cell_type": "markdown",
      "metadata": {},
      "source": [
        "Категориальные и числовые переменные"
      ]
    },
    {
      "cell_type": "code",
      "execution_count": 12,
      "metadata": {
        "execution": {
          "iopub.execute_input": "2024-07-17T14:57:00.779173Z",
          "iopub.status.busy": "2024-07-17T14:57:00.778777Z",
          "iopub.status.idle": "2024-07-17T14:57:00.78739Z",
          "shell.execute_reply": "2024-07-17T14:57:00.785945Z",
          "shell.execute_reply.started": "2024-07-17T14:57:00.77914Z"
        },
        "id": "ZzoaJg7UTntE",
        "trusted": true
      },
      "outputs": [],
      "source": [
        "num_cols = ['Age', 'Driving_License', 'Region_Code', 'Previously_Insured',\n",
        "            'Annual_Premium', 'Policy_Sales_Channel', 'Vintage']\n",
        "cat_cols = ['Gender', 'Vehicle_Age', 'Vehicle_Damage']\n",
        "all_cols = num_cols + cat_cols"
      ]
    },
    {
      "cell_type": "markdown",
      "metadata": {},
      "source": [
        "Сохраним датасет с числовыми признаками для бэйзлайн модели"
      ]
    },
    {
      "cell_type": "code",
      "execution_count": 13,
      "metadata": {},
      "outputs": [],
      "source": [
        "X_train_base = X_train[num_cols]\n",
        "X_test_base = X_test[num_cols]"
      ]
    },
    {
      "cell_type": "markdown",
      "metadata": {
        "id": "iIFtJO27TntG"
      },
      "source": [
        "### 2.3 Обработка категориальных признаков и нормализация"
      ]
    },
    {
      "cell_type": "markdown",
      "metadata": {},
      "source": [
        "Сохраним датасет для последующей обработки категориальных признаков и нормализации"
      ]
    },
    {
      "cell_type": "code",
      "execution_count": 14,
      "metadata": {},
      "outputs": [],
      "source": [
        "X_train_proc = X_train.copy()\n",
        "X_test_proc = X_test.copy()"
      ]
    },
    {
      "cell_type": "code",
      "execution_count": 15,
      "metadata": {},
      "outputs": [],
      "source": [
        "le = LabelEncoder()\n",
        "for col in cat_cols:\n",
        "    X_train_proc[col] = le.fit_transform(X_train_proc[col])\n",
        "    X_test_proc[col] = le.transform(X_test_proc[col])"
      ]
    },
    {
      "cell_type": "code",
      "execution_count": 16,
      "metadata": {},
      "outputs": [
        {
          "data": {
            "text/html": [
              "<div>\n",
              "<style scoped>\n",
              "    .dataframe tbody tr th:only-of-type {\n",
              "        vertical-align: middle;\n",
              "    }\n",
              "\n",
              "    .dataframe tbody tr th {\n",
              "        vertical-align: top;\n",
              "    }\n",
              "\n",
              "    .dataframe thead th {\n",
              "        text-align: right;\n",
              "    }\n",
              "</style>\n",
              "<table border=\"1\" class=\"dataframe\">\n",
              "  <thead>\n",
              "    <tr style=\"text-align: right;\">\n",
              "      <th></th>\n",
              "      <th>Gender</th>\n",
              "      <th>Age</th>\n",
              "      <th>Driving_License</th>\n",
              "      <th>Region_Code</th>\n",
              "      <th>Previously_Insured</th>\n",
              "      <th>Vehicle_Age</th>\n",
              "      <th>Vehicle_Damage</th>\n",
              "      <th>Annual_Premium</th>\n",
              "      <th>Policy_Sales_Channel</th>\n",
              "      <th>Vintage</th>\n",
              "    </tr>\n",
              "  </thead>\n",
              "  <tbody>\n",
              "    <tr>\n",
              "      <th>4759874</th>\n",
              "      <td>0</td>\n",
              "      <td>25</td>\n",
              "      <td>1</td>\n",
              "      <td>50.0</td>\n",
              "      <td>1</td>\n",
              "      <td>1</td>\n",
              "      <td>0</td>\n",
              "      <td>35283.0</td>\n",
              "      <td>152.0</td>\n",
              "      <td>65</td>\n",
              "    </tr>\n",
              "    <tr>\n",
              "      <th>11227509</th>\n",
              "      <td>0</td>\n",
              "      <td>52</td>\n",
              "      <td>1</td>\n",
              "      <td>28.0</td>\n",
              "      <td>0</td>\n",
              "      <td>0</td>\n",
              "      <td>1</td>\n",
              "      <td>47269.0</td>\n",
              "      <td>26.0</td>\n",
              "      <td>114</td>\n",
              "    </tr>\n",
              "    <tr>\n",
              "      <th>700827</th>\n",
              "      <td>1</td>\n",
              "      <td>44</td>\n",
              "      <td>1</td>\n",
              "      <td>36.0</td>\n",
              "      <td>1</td>\n",
              "      <td>0</td>\n",
              "      <td>0</td>\n",
              "      <td>31854.0</td>\n",
              "      <td>124.0</td>\n",
              "      <td>34</td>\n",
              "    </tr>\n",
              "    <tr>\n",
              "      <th>10859621</th>\n",
              "      <td>0</td>\n",
              "      <td>49</td>\n",
              "      <td>1</td>\n",
              "      <td>50.0</td>\n",
              "      <td>0</td>\n",
              "      <td>0</td>\n",
              "      <td>1</td>\n",
              "      <td>23086.0</td>\n",
              "      <td>160.0</td>\n",
              "      <td>297</td>\n",
              "    </tr>\n",
              "    <tr>\n",
              "      <th>11120384</th>\n",
              "      <td>0</td>\n",
              "      <td>22</td>\n",
              "      <td>1</td>\n",
              "      <td>37.0</td>\n",
              "      <td>1</td>\n",
              "      <td>1</td>\n",
              "      <td>0</td>\n",
              "      <td>25416.0</td>\n",
              "      <td>152.0</td>\n",
              "      <td>193</td>\n",
              "    </tr>\n",
              "  </tbody>\n",
              "</table>\n",
              "</div>"
            ],
            "text/plain": [
              "          Gender  Age  Driving_License  Region_Code  Previously_Insured  \\\n",
              "4759874        0   25                1         50.0                   1   \n",
              "11227509       0   52                1         28.0                   0   \n",
              "700827         1   44                1         36.0                   1   \n",
              "10859621       0   49                1         50.0                   0   \n",
              "11120384       0   22                1         37.0                   1   \n",
              "\n",
              "          Vehicle_Age  Vehicle_Damage  Annual_Premium  Policy_Sales_Channel  \\\n",
              "4759874             1               0         35283.0                 152.0   \n",
              "11227509            0               1         47269.0                  26.0   \n",
              "700827              0               0         31854.0                 124.0   \n",
              "10859621            0               1         23086.0                 160.0   \n",
              "11120384            1               0         25416.0                 152.0   \n",
              "\n",
              "          Vintage  \n",
              "4759874        65  \n",
              "11227509      114  \n",
              "700827         34  \n",
              "10859621      297  \n",
              "11120384      193  "
            ]
          },
          "execution_count": 16,
          "metadata": {},
          "output_type": "execute_result"
        }
      ],
      "source": [
        "X_train_proc.head()"
      ]
    },
    {
      "cell_type": "markdown",
      "metadata": {
        "id": "vbvRnlNpTntH"
      },
      "source": [
        "Нормализация"
      ]
    },
    {
      "cell_type": "code",
      "execution_count": 17,
      "metadata": {
        "execution": {
          "iopub.execute_input": "2024-07-17T15:51:24.39704Z",
          "iopub.status.busy": "2024-07-17T15:51:24.396511Z",
          "iopub.status.idle": "2024-07-17T15:51:27.675406Z",
          "shell.execute_reply": "2024-07-17T15:51:27.674118Z",
          "shell.execute_reply.started": "2024-07-17T15:51:24.396983Z"
        },
        "id": "TQvNXsR0TntH",
        "trusted": true
      },
      "outputs": [],
      "source": [
        "scaler = MinMaxScaler()\n",
        "X_train_proc[all_cols] = scaler.fit_transform(X_train_proc[all_cols])\n",
        "X_test_proc[all_cols] = scaler.transform(X_test_proc[all_cols])\n"
      ]
    },
    {
      "cell_type": "markdown",
      "metadata": {
        "id": "2wMyFbxBTntH"
      },
      "source": [
        "# 3. Генерация признаков и отбор"
      ]
    },
    {
      "cell_type": "markdown",
      "metadata": {},
      "source": [
        "Признаки на основе полиномиальных комбинаций числовых признаков"
      ]
    },
    {
      "cell_type": "code",
      "execution_count": 18,
      "metadata": {},
      "outputs": [],
      "source": [
        "poly = PolynomialFeatures(degree=2, include_bias=False)\n",
        "X_train_poly = poly.fit_transform(X_train_proc[all_cols])\n",
        "X_test_poly = poly.transform(X_test_proc[all_cols])"
      ]
    },
    {
      "cell_type": "markdown",
      "metadata": {},
      "source": [
        "Применяем SelectKBest для отбора 10 лучших признаков"
      ]
    },
    {
      "cell_type": "code",
      "execution_count": 19,
      "metadata": {},
      "outputs": [],
      "source": [
        "selector = SelectKBest(f_classif, k=10)\n",
        "X_train_sel = selector.fit_transform(X_train_poly, y_train)\n",
        "X_test_sel = selector.transform(X_test_poly)"
      ]
    },
    {
      "cell_type": "markdown",
      "metadata": {},
      "source": [
        "# 4. Обучение моделей на сырых и разной степени обработки данных. Сравнение результатов"
      ]
    },
    {
      "cell_type": "markdown",
      "metadata": {},
      "source": [
        "Создадим функцию для оценки модели по заданным метрикам"
      ]
    },
    {
      "cell_type": "code",
      "execution_count": 20,
      "metadata": {},
      "outputs": [],
      "source": [
        "def evaluate_imbalanced(model, X_train, X_test, y_train, y_test):\n",
        "    model.fit(X_train, y_train)\n",
        "    y_pred = model.predict(X_test)\n",
        "    y_proba = model.predict_proba(X_test)[:, 1]\n",
        "    \n",
        "    tn, fp, fn, tp = confusion_matrix(y_test, y_pred).ravel()\n",
        "    return {\n",
        "        'F1-score': f1_score(y_test, y_pred),\n",
        "        'ROC-AUC': roc_auc_score(y_test, y_proba),\n",
        "        'PR-AUC': average_precision_score(y_test, y_proba),\n",
        "        'Balanced Accuracy': balanced_accuracy_score(y_test, y_pred),\n",
        "        'Sensitivity': tp / (tp + fn),\n",
        "        'Specificity': tn / (tn + fp),\n",
        "        'G-Mean': np.sqrt((tp/(tp+fn)) * (tn/(tn+fp)))\n",
        "    }"
      ]
    },
    {
      "cell_type": "markdown",
      "metadata": {},
      "source": [
        "Краткое описание выбранных метрик и причин их использования для задачи бинарной классификации с дисбалансом классов:\n",
        "\n",
        "1. **F1-score** (Гармоническое среднее precision и recall)  \n",
        "   - Почему: Балансирует между точностью и полнотой, что критично при дисбалансе классов  \n",
        "   - Формула: `F1 = 2*(Precision*Recall)/(Precision+Recall)`\n",
        "\n",
        "2. **PR-AUC** (Precision-Recall AUC)  \n",
        "   - Почему: Лучше ROC-AUC для сильно дисбалансированных данных, фокусируется на качестве предсказаний positive-класса  \n",
        "   - Особенность: Оценивает кривую precision-recall вместо ROC-кривой\n",
        "\n",
        "3. **Balanced Accuracy**  \n",
        "   - Почему: Учитывает accuracy для каждого класса отдельно, затем усредняет  \n",
        "   - Формула: `(Sensitivity + Specificity)/2`\n",
        "\n",
        "4. **G-Mean** (Геометрическое среднее sensitivity и specificity)  \n",
        "   - Почему: Наказывает за большие различия в ошибках между классами  \n",
        "   - Формула: `√(Sensitivity * Specificity)`\n",
        "\n",
        "**Дополнительно в коде используются:**\n",
        "- **Sensitivity (Recall)** - способность находить все positive-случаи  \n",
        "- **Specificity** - способность правильно идентифицировать negative-случаи\n",
        "\n",
        "**Почему не accuracy?**  \n",
        "При дисбалансе 80:20 модель может получить accuracy=0.8, просто всегда предсказывая majority-класс, что бесполезно на практике. Выбранные метрики устойчивы к дисбалансу."
      ]
    },
    {
      "cell_type": "code",
      "execution_count": 21,
      "metadata": {},
      "outputs": [],
      "source": [
        "results = {}"
      ]
    },
    {
      "cell_type": "markdown",
      "metadata": {},
      "source": [
        "### 4.1 Бейзлайн модель"
      ]
    },
    {
      "cell_type": "code",
      "execution_count": 22,
      "metadata": {
        "execution": {
          "iopub.execute_input": "2024-07-17T15:51:27.677459Z",
          "iopub.status.busy": "2024-07-17T15:51:27.676958Z",
          "iopub.status.idle": "2024-07-17T15:52:36.614433Z",
          "shell.execute_reply": "2024-07-17T15:52:36.613219Z",
          "shell.execute_reply.started": "2024-07-17T15:51:27.677409Z"
        },
        "id": "DiqdEqDqTntH",
        "trusted": true
      },
      "outputs": [],
      "source": [
        "lr_base = LogisticRegression(class_weight=class_weight_dict, max_iter=1000)\n",
        "results['Baseline'] = evaluate_imbalanced(lr_base, X_train_base, X_test_base, y_train, y_test)"
      ]
    },
    {
      "cell_type": "markdown",
      "metadata": {},
      "source": [
        "### 4.2 С обработкой категориальных и нормализацией"
      ]
    },
    {
      "cell_type": "code",
      "execution_count": 23,
      "metadata": {},
      "outputs": [],
      "source": [
        "lr_proc = LogisticRegression(class_weight=class_weight_dict, max_iter=1000)\n",
        "results['Processed'] = evaluate_imbalanced(lr_proc, X_train_proc[all_cols], X_test_proc[all_cols], y_train, y_test)"
      ]
    },
    {
      "cell_type": "markdown",
      "metadata": {},
      "source": [
        "### 4.3 С полиномиальными признаками"
      ]
    },
    {
      "cell_type": "code",
      "execution_count": 24,
      "metadata": {},
      "outputs": [],
      "source": [
        "lr_poly = LogisticRegression(class_weight=class_weight_dict, max_iter=1000)\n",
        "results['Polynomial'] = evaluate_imbalanced(lr_poly, X_train_poly, X_test_poly, y_train, y_test)"
      ]
    },
    {
      "cell_type": "markdown",
      "metadata": {},
      "source": [
        "Обучение занимает много времени. Можно будет попробовать снизить размерность через PCA"
      ]
    },
    {
      "cell_type": "markdown",
      "metadata": {},
      "source": [
        "### 4.4 С отбором признаков"
      ]
    },
    {
      "cell_type": "code",
      "execution_count": 25,
      "metadata": {},
      "outputs": [],
      "source": [
        "lr_sel = LogisticRegression(class_weight=class_weight_dict, max_iter=1000)\n",
        "results['Selected Features'] = evaluate_imbalanced(lr_sel, X_train_sel, X_test_sel, y_train, y_test)\n"
      ]
    },
    {
      "cell_type": "markdown",
      "metadata": {},
      "source": [
        "### 4.5 Табличка метриками разных мелей"
      ]
    },
    {
      "cell_type": "markdown",
      "metadata": {},
      "source": [
        "Сравнение моделей по ключевым метрикам"
      ]
    },
    {
      "cell_type": "code",
      "execution_count": 26,
      "metadata": {},
      "outputs": [
        {
          "data": {
            "text/html": [
              "<div>\n",
              "<style scoped>\n",
              "    .dataframe tbody tr th:only-of-type {\n",
              "        vertical-align: middle;\n",
              "    }\n",
              "\n",
              "    .dataframe tbody tr th {\n",
              "        vertical-align: top;\n",
              "    }\n",
              "\n",
              "    .dataframe thead th {\n",
              "        text-align: right;\n",
              "    }\n",
              "</style>\n",
              "<table border=\"1\" class=\"dataframe\">\n",
              "  <thead>\n",
              "    <tr style=\"text-align: right;\">\n",
              "      <th></th>\n",
              "      <th>F1-score</th>\n",
              "      <th>PR-AUC</th>\n",
              "      <th>Balanced Accuracy</th>\n",
              "      <th>G-Mean</th>\n",
              "    </tr>\n",
              "  </thead>\n",
              "  <tbody>\n",
              "    <tr>\n",
              "      <th>Baseline</th>\n",
              "      <td>0.263</td>\n",
              "      <td>0.165</td>\n",
              "      <td>0.590</td>\n",
              "      <td>0.588</td>\n",
              "    </tr>\n",
              "    <tr>\n",
              "      <th>Processed</th>\n",
              "      <td>0.402</td>\n",
              "      <td>0.299</td>\n",
              "      <td>0.787</td>\n",
              "      <td>0.763</td>\n",
              "    </tr>\n",
              "    <tr>\n",
              "      <th>Polynomial</th>\n",
              "      <td>0.432</td>\n",
              "      <td>0.346</td>\n",
              "      <td>0.800</td>\n",
              "      <td>0.788</td>\n",
              "    </tr>\n",
              "    <tr>\n",
              "      <th>Selected Features</th>\n",
              "      <td>0.402</td>\n",
              "      <td>0.257</td>\n",
              "      <td>0.787</td>\n",
              "      <td>0.763</td>\n",
              "    </tr>\n",
              "  </tbody>\n",
              "</table>\n",
              "</div>"
            ],
            "text/plain": [
              "                   F1-score  PR-AUC  Balanced Accuracy  G-Mean\n",
              "Baseline              0.263   0.165              0.590   0.588\n",
              "Processed             0.402   0.299              0.787   0.763\n",
              "Polynomial            0.432   0.346              0.800   0.788\n",
              "Selected Features     0.402   0.257              0.787   0.763"
            ]
          },
          "execution_count": 26,
          "metadata": {},
          "output_type": "execute_result"
        }
      ],
      "source": [
        "results_df = pd.DataFrame(results).T.round(3)\n",
        "\n",
        "key_metrics = ['F1-score', 'PR-AUC', 'Balanced Accuracy', 'G-Mean']\n",
        "results_df[key_metrics]\n"
      ]
    },
    {
      "cell_type": "markdown",
      "metadata": {},
      "source": [
        "Лучшие метрики у модели со сгенерированными полиномиальными признаками. Модель с обработкой категориальных признаков и нормализацией тоже показывает хорошие результаты, но она существенно быстрее"
      ]
    },
    {
      "cell_type": "markdown",
      "metadata": {},
      "source": [
        "Все посчитанные метрики"
      ]
    },
    {
      "cell_type": "code",
      "execution_count": 27,
      "metadata": {},
      "outputs": [
        {
          "data": {
            "text/html": [
              "<div>\n",
              "<style scoped>\n",
              "    .dataframe tbody tr th:only-of-type {\n",
              "        vertical-align: middle;\n",
              "    }\n",
              "\n",
              "    .dataframe tbody tr th {\n",
              "        vertical-align: top;\n",
              "    }\n",
              "\n",
              "    .dataframe thead th {\n",
              "        text-align: right;\n",
              "    }\n",
              "</style>\n",
              "<table border=\"1\" class=\"dataframe\">\n",
              "  <thead>\n",
              "    <tr style=\"text-align: right;\">\n",
              "      <th></th>\n",
              "      <th>F1-score</th>\n",
              "      <th>ROC-AUC</th>\n",
              "      <th>PR-AUC</th>\n",
              "      <th>Balanced Accuracy</th>\n",
              "      <th>Sensitivity</th>\n",
              "      <th>Specificity</th>\n",
              "      <th>G-Mean</th>\n",
              "    </tr>\n",
              "  </thead>\n",
              "  <tbody>\n",
              "    <tr>\n",
              "      <th>Baseline</th>\n",
              "      <td>0.263</td>\n",
              "      <td>0.660</td>\n",
              "      <td>0.165</td>\n",
              "      <td>0.590</td>\n",
              "      <td>0.540</td>\n",
              "      <td>0.640</td>\n",
              "      <td>0.588</td>\n",
              "    </tr>\n",
              "    <tr>\n",
              "      <th>Processed</th>\n",
              "      <td>0.402</td>\n",
              "      <td>0.824</td>\n",
              "      <td>0.299</td>\n",
              "      <td>0.787</td>\n",
              "      <td>0.981</td>\n",
              "      <td>0.593</td>\n",
              "      <td>0.763</td>\n",
              "    </tr>\n",
              "    <tr>\n",
              "      <th>Polynomial</th>\n",
              "      <td>0.432</td>\n",
              "      <td>0.849</td>\n",
              "      <td>0.346</td>\n",
              "      <td>0.800</td>\n",
              "      <td>0.934</td>\n",
              "      <td>0.665</td>\n",
              "      <td>0.788</td>\n",
              "    </tr>\n",
              "    <tr>\n",
              "      <th>Selected Features</th>\n",
              "      <td>0.402</td>\n",
              "      <td>0.804</td>\n",
              "      <td>0.257</td>\n",
              "      <td>0.787</td>\n",
              "      <td>0.981</td>\n",
              "      <td>0.593</td>\n",
              "      <td>0.763</td>\n",
              "    </tr>\n",
              "  </tbody>\n",
              "</table>\n",
              "</div>"
            ],
            "text/plain": [
              "                   F1-score  ROC-AUC  PR-AUC  Balanced Accuracy  Sensitivity  \\\n",
              "Baseline              0.263    0.660   0.165              0.590        0.540   \n",
              "Processed             0.402    0.824   0.299              0.787        0.981   \n",
              "Polynomial            0.432    0.849   0.346              0.800        0.934   \n",
              "Selected Features     0.402    0.804   0.257              0.787        0.981   \n",
              "\n",
              "                   Specificity  G-Mean  \n",
              "Baseline                 0.640   0.588  \n",
              "Processed                0.593   0.763  \n",
              "Polynomial               0.665   0.788  \n",
              "Selected Features        0.593   0.763  "
            ]
          },
          "execution_count": 27,
          "metadata": {},
          "output_type": "execute_result"
        }
      ],
      "source": [
        "results_df"
      ]
    },
    {
      "cell_type": "markdown",
      "metadata": {},
      "source": [
        "Если будет время можно будет добавить метрику скорости работы модели, а также понизить размерность модели с полиномиальными признаками через метод главных компонент"
      ]
    },
    {
      "cell_type": "code",
      "execution_count": null,
      "metadata": {},
      "outputs": [],
      "source": []
    }
  ],
  "metadata": {
    "colab": {
      "name": "Playground Series  - Insurance Cross Selling",
      "provenance": []
    },
    "kaggle": {
      "accelerator": "none",
      "dataSources": [
        {
          "databundleVersionId": 8930475,
          "sourceId": 73291,
          "sourceType": "competition"
        }
      ],
      "dockerImageVersionId": 30746,
      "isGpuEnabled": false,
      "isInternetEnabled": true,
      "language": "python",
      "sourceType": "notebook"
    },
    "kernelspec": {
      "display_name": "base",
      "language": "python",
      "name": "python3"
    },
    "language_info": {
      "codemirror_mode": {
        "name": "ipython",
        "version": 3
      },
      "file_extension": ".py",
      "mimetype": "text/x-python",
      "name": "python",
      "nbconvert_exporter": "python",
      "pygments_lexer": "ipython3",
      "version": "3.11.5"
    }
  },
  "nbformat": 4,
  "nbformat_minor": 0
}
